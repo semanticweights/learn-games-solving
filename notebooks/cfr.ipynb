{
 "cells": [
  {
   "cell_type": "code",
   "execution_count": 1,
   "metadata": {},
   "outputs": [],
   "source": [
    "import numpy as np"
   ]
  },
  {
   "cell_type": "code",
   "execution_count": 2,
   "metadata": {},
   "outputs": [],
   "source": [
    "# counterfactual regret minimization (CFR) for solving Kuhn Poker\n",
    "PLAYER_0 = 0\n",
    "PLAYER_1 = 1\n",
    "# player 0 always starts and owns the first card in cards = DECK.dopy()\n",
    "DECK = np.array([1, 2, 3])\n",
    "# actions are 'pass' (with action_id 0) and 'bet' (with action_id 1)\n",
    "ACTIONS = ['p', 'b']\n",
    "\n",
    "\n",
    "def terminal_utility(cards, history, player):\n",
    "    if len(history) < 2:\n",
    "        # history not terminal\n",
    "        return None\n",
    "\n",
    "    if cards[player] > cards[1 - player]:\n",
    "        higher_card_multiplier = 1\n",
    "    else:\n",
    "        higher_card_multiplier = -1\n",
    "    if player == PLAYER_0:\n",
    "        player_multiplier = 1\n",
    "    else:\n",
    "        player_multiplier = -1\n",
    "\n",
    "    if history == \"pp\":\n",
    "        return higher_card_multiplier * 1.0\n",
    "    elif history == \"pbp\":\n",
    "        return player_multiplier * -1.0\n",
    "    elif history == \"pbb\":\n",
    "        return higher_card_multiplier * 2.0\n",
    "    elif history == \"bp\":\n",
    "        return player_multiplier * 1.0\n",
    "    elif history == \"bb\":\n",
    "        return higher_card_multiplier * 2.0"
   ]
  },
  {
   "cell_type": "code",
   "execution_count": 3,
   "metadata": {},
   "outputs": [],
   "source": [
    "class InfoSet:\n",
    "    def __init__(self): \n",
    "        self.regret_sum = np.array([0.0, 0.0])\n",
    "        self.strategy_sum = np.array([0.0, 0.0])\n",
    "\n",
    "    def strategy(self):\n",
    "        regret = self.regret_sum.copy()\n",
    "        regret[regret < 0.0] = 0.0\n",
    "        normalizing = regret.sum()\n",
    "        if normalizing > 0.0:\n",
    "            return regret / normalizing\n",
    "        else:\n",
    "            return [0.5, 0.5]\n",
    "\n",
    "    def avg_strategy(self):\n",
    "        normalizing = self.strategy_sum.sum()\n",
    "        if normalizing > 0.0:\n",
    "            strategy = self.strategy_sum / normalizing\n",
    "            # clip small probabilities\n",
    "            strategy[strategy < 1e-4] = 0.0\n",
    "            return strategy / strategy.sum()\n",
    "        else:\n",
    "            return [0.5, 0.5]\n",
    "\n",
    "    def __repr__(self):\n",
    "        return str(self.avg_strategy())\n",
    "\n",
    "\n",
    "def cfr(info_sets, cards, history, prob_0, prob_1):\n",
    "    # prob_0 and prob_1 are probabilities that players 0 and 1 play to the\n",
    "    # current information set respectively\n",
    "    current_player = len(history) % 2\n",
    "    u = terminal_utility(cards, history, current_player)\n",
    "    if u is not None:\n",
    "        return u\n",
    "\n",
    "    info_set_key = \"card: {:d} - history: {}\".format(cards[current_player], history)\n",
    "    info_set = info_sets.get(info_set_key, InfoSet())\n",
    "\n",
    "    expected_node_value = 0.0\n",
    "    action_values = np.array([0.0, 0.0])\n",
    "    strategy = info_set.strategy()\n",
    "\n",
    "    for i in range(len(ACTIONS)):\n",
    "        if current_player == PLAYER_0:\n",
    "            action_values[i] = -cfr(\n",
    "                info_sets,\n",
    "                cards,\n",
    "                history + ACTIONS[i],\n",
    "                prob_0 * strategy[i],\n",
    "                prob_1,\n",
    "            )\n",
    "        else:\n",
    "            action_values[i] = -cfr(\n",
    "                info_sets,\n",
    "                cards,\n",
    "                history + ACTIONS[i],\n",
    "                prob_0,\n",
    "                prob_1 * strategy[i],\n",
    "            )\n",
    "        expected_node_value += strategy[i] * action_values[i]\n",
    "\n",
    "    # update the regrets\n",
    "    if current_player == PLAYER_0:\n",
    "        info_set.regret_sum += np.multiply(action_values - expected_node_value, prob_1)\n",
    "        info_set.strategy_sum += np.multiply(strategy, prob_0)\n",
    "    else:\n",
    "        info_set.regret_sum += np.multiply(action_values - expected_node_value, prob_0)\n",
    "        info_set.strategy_sum += np.multiply(strategy, prob_1)\n",
    "\n",
    "    info_sets[info_set_key] = info_set\n",
    "    return expected_node_value"
   ]
  },
  {
   "cell_type": "code",
   "execution_count": 4,
   "metadata": {},
   "outputs": [
    {
     "data": {
      "text/plain": [
       "-0.05656352745539217"
      ]
     },
     "execution_count": 4,
     "metadata": {},
     "output_type": "execute_result"
    }
   ],
   "source": [
    "# solve the game\n",
    "NUM_ITER = 2000000\n",
    "\n",
    "info_sets = {}\n",
    "util = 0.0\n",
    "for _ in range(NUM_ITER):\n",
    "    cards = DECK.copy()\n",
    "    np.random.shuffle(cards)\n",
    "    util += cfr(info_sets, cards, \"\", 1.0, 1.0)\n",
    "\n",
    "util / NUM_ITER"
   ]
  },
  {
   "cell_type": "code",
   "execution_count": 5,
   "metadata": {},
   "outputs": [
    {
     "data": {
      "text/plain": [
       "{'card: 3 - history: pb': array([0., 1.]),\n",
       " 'card: 2 - history: p': array([1., 0.]),\n",
       " 'card: 2 - history: b': array([0.66634135, 0.33365865]),\n",
       " 'card: 3 - history: ': array([0.25711416, 0.74288584]),\n",
       " 'card: 1 - history: pb': array([1., 0.]),\n",
       " 'card: 3 - history: p': array([0., 1.]),\n",
       " 'card: 3 - history: b': array([0., 1.]),\n",
       " 'card: 1 - history: ': array([0.75391227, 0.24608773]),\n",
       " 'card: 2 - history: pb': array([0.41828635, 0.58171365]),\n",
       " 'card: 1 - history: p': array([0.66314706, 0.33685294]),\n",
       " 'card: 1 - history: b': array([1., 0.]),\n",
       " 'card: 2 - history: ': array([1., 0.])}"
      ]
     },
     "execution_count": 5,
     "metadata": {},
     "output_type": "execute_result"
    }
   ],
   "source": [
    "policy = {k: v.avg_strategy() for k, v in info_sets.items()}\n",
    "policy"
   ]
  },
  {
   "cell_type": "code",
   "execution_count": 6,
   "metadata": {},
   "outputs": [
    {
     "data": {
      "text/plain": [
       "-0.05681"
      ]
     },
     "execution_count": 6,
     "metadata": {},
     "output_type": "execute_result"
    }
   ],
   "source": [
    "# calculate the expected value for the first player given the obtained policy (same as above)\n",
    "NUM_GAMES = 500000\n",
    "\n",
    "\n",
    "def random_game_value():\n",
    "    cards = DECK.copy()\n",
    "    np.random.shuffle(cards)\n",
    "    history = \"\"\n",
    "    current_player = PLAYER_0\n",
    "\n",
    "    while terminal_utility(cards, history, current_player) is None:\n",
    "        info_set_key = \"card: {:d} - history: {}\".format(cards[current_player], history)\n",
    "        action = np.random.choice([0, 1], p=policy[info_set_key])\n",
    "        history += ACTIONS[action]\n",
    "        current_player = 1 - current_player\n",
    "\n",
    "    return terminal_utility(cards, history, PLAYER_0)\n",
    "\n",
    "value = 0.0\n",
    "for _ in range(NUM_GAMES):\n",
    "    value += random_game_value()\n",
    "\n",
    "value / NUM_GAMES"
   ]
  },
  {
   "cell_type": "code",
   "execution_count": 7,
   "metadata": {},
   "outputs": [
    {
     "data": {
      "text/plain": [
       "-0.05555555555555555"
      ]
     },
     "execution_count": 7,
     "metadata": {},
     "output_type": "execute_result"
    }
   ],
   "source": [
    "# expected value for the first player based on https://en.wikipedia.org/wiki/Kuhn_poker\n",
    "-1/18"
   ]
  },
  {
   "cell_type": "code",
   "execution_count": null,
   "metadata": {},
   "outputs": [],
   "source": []
  }
 ],
 "metadata": {
  "kernelspec": {
   "display_name": "Python 3",
   "language": "python",
   "name": "python3"
  },
  "language_info": {
   "codemirror_mode": {
    "name": "ipython",
    "version": 3
   },
   "file_extension": ".py",
   "mimetype": "text/x-python",
   "name": "python",
   "nbconvert_exporter": "python",
   "pygments_lexer": "ipython3",
   "version": "3.8.5"
  }
 },
 "nbformat": 4,
 "nbformat_minor": 4
}
